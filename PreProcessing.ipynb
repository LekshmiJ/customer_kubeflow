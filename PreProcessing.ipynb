{
 "cells": [
  {
   "cell_type": "code",
   "execution_count": null,
   "id": "2ca3e7cb",
   "metadata": {},
   "outputs": [],
   "source": []
  },
  {
   "cell_type": "code",
   "execution_count": null,
   "id": "a551f7a6",
   "metadata": {},
   "outputs": [],
   "source": [
    "data['Sales order date'] = pd.to_datetime(data['Sales order date'],dayfirst = True)\n",
    "data['Quote Date']= pd.to_datetime(data['Quote Date'],dayfirst = True)\n",
    "data['Quote Date - So Date Difference'] = (data['Sales order date'] - data['Quote Date']).dt.days\n",
    "data['Date'] = pd.to_datetime(data['Date'],dayfirst = True)\n",
    "data['Age of Customer(days)'] = (data['Date'] - data['Sales order date']).dt.days\n",
    "data['Age of Customer(days)']=data['Age of Customer(days)'].fillna(0)"
   ]
  },
  {
   "cell_type": "code",
   "execution_count": null,
   "id": "6ea25e9d",
   "metadata": {},
   "outputs": [],
   "source": [
    "data['Conversion Ratio'] = 0.0\n",
    "for i in data['Customer ID']:\n",
    "    a=list(data.loc[data['Customer ID']==i,'Quote Amount'])\n",
    "    l = list(data.loc[data['Customer ID']==i,'Sales Order Amount'])\n",
    "    s = 0\n",
    "    c= 0\n",
    "    for j in l:\n",
    "       \n",
    "        if pd.isnull(j)==False:\n",
    "            s = s+j\n",
    "            c = c+1\n",
    "    if c==0:\n",
    "        m = 0 \n",
    "    else:\n",
    "        m = s\n",
    "            \n",
    "    d=sum(a)/len(a)\n",
    "    data.loc[data['Customer ID']==i,'TotalSales']= m   \n",
    "    rate=c/len(a)\n",
    "    data.loc[data['Customer ID']==i,'Conversion Ratio']= round((rate*100),2)"
   ]
  },
  {
   "cell_type": "code",
   "execution_count": null,
   "id": "0fc0b789",
   "metadata": {},
   "outputs": [],
   "source": [
    "for i in data['Customer ID']:\n",
    "    a=list(data.loc[data['Customer ID']==i,'Age of Customer(days)'].values)\n",
    "    data.loc[data['Customer ID']==i,'Age of Customer(days)']=(max(a))"
   ]
  },
  {
   "cell_type": "code",
   "execution_count": null,
   "id": "c5adb1b5",
   "metadata": {},
   "outputs": [],
   "source": [
    "data['Avg Days'] = 0.0\n",
    "for i in data['Customer ID']:\n",
    "    b = list(data.loc[data['Customer ID']==i,'Quote Date - So Date Difference'])\n",
    "    s = 0\n",
    "    c= 0\n",
    "    for j in b:\n",
    "        if pd.isnull(j)==False:\n",
    "            s = s+j\n",
    "            c = c+1\n",
    "    if c==0:\n",
    "        m = 0 \n",
    "    else:\n",
    "        m = s/c\n",
    "            \n",
    "    data.loc[data['Customer ID']==i,'Avg Days']= m"
   ]
  },
  {
   "cell_type": "code",
   "execution_count": null,
   "id": "ce7d83d8",
   "metadata": {},
   "outputs": [],
   "source": [
    "data['Age of Customer (years)'] = round((data['Age of Customer(days)']/365),2)"
   ]
  },
  {
   "cell_type": "code",
   "execution_count": null,
   "id": "f304633c",
   "metadata": {},
   "outputs": [],
   "source": [
    "data2 = data.drop_duplicates(subset=['Customer ID'],keep = 'last')"
   ]
  },
  {
   "cell_type": "code",
   "execution_count": null,
   "id": "a56ba7f9",
   "metadata": {},
   "outputs": [],
   "source": [
    "from sklearn.preprocessing import MinMaxScaler\n",
    "data2[['Conversion Ratio','Age of Customer (years)','TotalSales','Avg Days']] = MinMaxScaler().fit(data2[['Conversion Ratio','Age of Customer (years)','TotalSales','Avg Days']]).transform(data2[['Conversion Ratio','Age of Customer (years)','TotalSales','Avg Days']])  "
   ]
  },
  {
   "cell_type": "code",
   "execution_count": null,
   "id": "5a843960",
   "metadata": {},
   "outputs": [],
   "source": [
    "data2['Total Rating'] = data2['Conversion Ratio'] + (0.75 *data2['TotalSales']) +(0.2 * data2['Age of Customer (years)']) +(0.5 * data2['Avg Days'])"
   ]
  },
  {
   "cell_type": "code",
   "execution_count": null,
   "id": "7600363b",
   "metadata": {},
   "outputs": [],
   "source": [
    "data2 = data2.sort_values(['Total Rating','Conversion Ratio','Age of Customer (years)','Avg Days'],ascending = [False,False,False,False])\n",
    "data2 = data2.reset_index()\n",
    "data2.drop(columns = ['index'],inplace = True)\n",
    "data2 ['Rank']= data2.index+1"
   ]
  },
  {
   "cell_type": "code",
   "execution_count": null,
   "id": "bb3aa434",
   "metadata": {},
   "outputs": [],
   "source": []
  },
  {
   "cell_type": "code",
   "execution_count": null,
   "id": "b4d2ca51",
   "metadata": {},
   "outputs": [],
   "source": []
  }
 ],
 "metadata": {
  "kernelspec": {
   "display_name": "Python 3",
   "language": "python",
   "name": "python3"
  },
  "language_info": {
   "codemirror_mode": {
    "name": "ipython",
    "version": 3
   },
   "file_extension": ".py",
   "mimetype": "text/x-python",
   "name": "python",
   "nbconvert_exporter": "python",
   "pygments_lexer": "ipython3",
   "version": "3.8.8"
  }
 },
 "nbformat": 4,
 "nbformat_minor": 5
}
