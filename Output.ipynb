{
 "cells": [
  {
   "cell_type": "code",
   "execution_count": null,
   "id": "45fff07b",
   "metadata": {},
   "outputs": [],
   "source": []
  },
  {
   "cell_type": "code",
   "execution_count": null,
   "id": "7b35e6e4",
   "metadata": {},
   "outputs": [],
   "source": [
    "df_input  = pd.read_csv('Input_Data.csv')"
   ]
  },
  {
   "cell_type": "code",
   "execution_count": null,
   "id": "7f2fc470",
   "metadata": {},
   "outputs": [],
   "source": [
    "def label3(i):\n",
    "    if i == 2:\n",
    "        return \"Low Priority\"\n",
    "    elif i == 1:\n",
    "        return \"Medium Priority\"\n",
    "    else:\n",
    "        return \"High Priority\""
   ]
  },
  {
   "cell_type": "code",
   "execution_count": null,
   "id": "c5e5cfd7",
   "metadata": {},
   "outputs": [],
   "source": [
    "def Input_Priority(i):\n",
    "    p=[]\n",
    "    i['Rating'] = 0\n",
    "    i['Priority'] = ''\n",
    "    i['Rank'] = ''\n",
    "    for j in i['Customer ID']:\n",
    "\n",
    "        if j in list(data2['Customer ID']):\n",
    "            a = data2.loc[data2['Customer ID']==j,'Total Rating'].values[0]\n",
    "            b = i.loc[i['Customer ID']== j,'Request Age'].values[0]\n",
    "            i.loc[i['Customer ID']==j, 'Rating'] = a+b\n",
    "        else:\n",
    "            p.append(j)\n",
    "            i.loc[i['Customer ID']==j, 'Priority'] ='Medium Priority'\n",
    "            i.loc[i['Customer ID']==j, 'Rank'] ='New Customer'\n",
    "    i=i.sort_values('Rating',ascending=False)\n",
    "    i = i.reset_index()\n",
    "    i.drop(columns = ['index'],inplace = True)\n",
    "    i['Rank']= i.index+1\n",
    "    i=i.sort_values('Rank')\n",
    "    kmeans = KMeans(n_clusters=3, init='k-means++', max_iter=300, n_init=10, random_state=0)\n",
    "    X= i[['Rating']].to_numpy()\n",
    "    pred_y = kmeans.fit_predict(X)\n",
    "    i['labels']=pred_y\n",
    "    i['Priority']=i['labels'].apply(lambda x:label3(x))\n",
    "    for k in p:\n",
    "        i.loc[i['Customer ID']==k, 'Priority'] ='Medium Priority'\n",
    "        i.loc[i['Customer ID']==k, 'Rank'] ='New Customer'\n",
    "    return i"
   ]
  },
  {
   "cell_type": "code",
   "execution_count": null,
   "id": "814e9bd8",
   "metadata": {},
   "outputs": [],
   "source": [
    "df = Input_Priority(df_input)\n",
    "print(df)"
   ]
  },
  {
   "cell_type": "code",
   "execution_count": null,
   "id": "9f20846b",
   "metadata": {},
   "outputs": [],
   "source": []
  }
 ],
 "metadata": {
  "kernelspec": {
   "display_name": "Python 3",
   "language": "python",
   "name": "python3"
  },
  "language_info": {
   "codemirror_mode": {
    "name": "ipython",
    "version": 3
   },
   "file_extension": ".py",
   "mimetype": "text/x-python",
   "name": "python",
   "nbconvert_exporter": "python",
   "pygments_lexer": "ipython3",
   "version": "3.8.8"
  }
 },
 "nbformat": 4,
 "nbformat_minor": 5
}
